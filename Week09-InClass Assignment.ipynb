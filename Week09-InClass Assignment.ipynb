{
 "cells": [
  {
   "cell_type": "code",
   "execution_count": 2,
   "id": "b47a3ec0",
   "metadata": {},
   "outputs": [],
   "source": [
    "import pandas as pd \n",
    "import matplotlib.pyplot as plt\n",
    "import numpy as np"
   ]
  },
  {
   "cell_type": "code",
   "execution_count": 15,
   "id": "f427eae6",
   "metadata": {},
   "outputs": [
    {
     "data": {
      "text/html": [
       "<div>\n",
       "<style scoped>\n",
       "    .dataframe tbody tr th:only-of-type {\n",
       "        vertical-align: middle;\n",
       "    }\n",
       "\n",
       "    .dataframe tbody tr th {\n",
       "        vertical-align: top;\n",
       "    }\n",
       "\n",
       "    .dataframe thead th {\n",
       "        text-align: right;\n",
       "    }\n",
       "</style>\n",
       "<table border=\"1\" class=\"dataframe\">\n",
       "  <thead>\n",
       "    <tr style=\"text-align: right;\">\n",
       "      <th></th>\n",
       "      <th>id</th>\n",
       "      <th>name</th>\n",
       "      <th>host_id</th>\n",
       "      <th>host_name</th>\n",
       "      <th>neighbourhood_group</th>\n",
       "      <th>neighbourhood</th>\n",
       "      <th>latitude</th>\n",
       "      <th>longitude</th>\n",
       "      <th>room_type</th>\n",
       "      <th>price</th>\n",
       "      <th>minimum_nights</th>\n",
       "      <th>number_of_reviews</th>\n",
       "      <th>last_review</th>\n",
       "      <th>reviews_per_month</th>\n",
       "      <th>calculated_host_listings_count</th>\n",
       "      <th>availability_365</th>\n",
       "    </tr>\n",
       "  </thead>\n",
       "  <tbody>\n",
       "    <tr>\n",
       "      <th>0</th>\n",
       "      <td>36666</td>\n",
       "      <td>Mo's Cozy Casa w/ veranda &amp; access to dock</td>\n",
       "      <td>157752</td>\n",
       "      <td>Monique</td>\n",
       "      <td>Belize</td>\n",
       "      <td>Belize Islands</td>\n",
       "      <td>17.74786</td>\n",
       "      <td>-88.02398</td>\n",
       "      <td>Entire home/apt</td>\n",
       "      <td>141</td>\n",
       "      <td>3</td>\n",
       "      <td>250</td>\n",
       "      <td>2/23/2021</td>\n",
       "      <td>2.00</td>\n",
       "      <td>5</td>\n",
       "      <td>225</td>\n",
       "    </tr>\n",
       "    <tr>\n",
       "      <th>1</th>\n",
       "      <td>36690</td>\n",
       "      <td>Mo's Cozy Cabana w/ comfy veranda &amp; access to ...</td>\n",
       "      <td>157752</td>\n",
       "      <td>Monique</td>\n",
       "      <td>Belize</td>\n",
       "      <td>Belize Islands</td>\n",
       "      <td>17.74832</td>\n",
       "      <td>-88.02474</td>\n",
       "      <td>Entire home/apt</td>\n",
       "      <td>71</td>\n",
       "      <td>3</td>\n",
       "      <td>316</td>\n",
       "      <td>2/19/2021</td>\n",
       "      <td>2.46</td>\n",
       "      <td>5</td>\n",
       "      <td>164</td>\n",
       "    </tr>\n",
       "    <tr>\n",
       "      <th>2</th>\n",
       "      <td>108932</td>\n",
       "      <td>Purple House eco solar  w/ ocean &amp; wildlife views</td>\n",
       "      <td>563377</td>\n",
       "      <td>Michael</td>\n",
       "      <td>Belize</td>\n",
       "      <td>Belize Islands</td>\n",
       "      <td>17.73221</td>\n",
       "      <td>-88.03824</td>\n",
       "      <td>Entire home/apt</td>\n",
       "      <td>191</td>\n",
       "      <td>2</td>\n",
       "      <td>30</td>\n",
       "      <td>3/14/2020</td>\n",
       "      <td>0.78</td>\n",
       "      <td>1</td>\n",
       "      <td>364</td>\n",
       "    </tr>\n",
       "    <tr>\n",
       "      <th>3</th>\n",
       "      <td>110483</td>\n",
       "      <td>Michelo's fuchsia suite</td>\n",
       "      <td>567809</td>\n",
       "      <td>Michel</td>\n",
       "      <td>Stann Creek</td>\n",
       "      <td>Stann Creek Mainland</td>\n",
       "      <td>16.52114</td>\n",
       "      <td>-88.36926</td>\n",
       "      <td>Hotel room</td>\n",
       "      <td>121</td>\n",
       "      <td>1</td>\n",
       "      <td>27</td>\n",
       "      <td>2/24/2020</td>\n",
       "      <td>0.29</td>\n",
       "      <td>3</td>\n",
       "      <td>331</td>\n",
       "    </tr>\n",
       "    <tr>\n",
       "      <th>4</th>\n",
       "      <td>120115</td>\n",
       "      <td>Seaside Villas Second Floor Unit  #4</td>\n",
       "      <td>604999</td>\n",
       "      <td>Bobbi</td>\n",
       "      <td>Belize</td>\n",
       "      <td>Belize Islands</td>\n",
       "      <td>17.74166</td>\n",
       "      <td>-88.02395</td>\n",
       "      <td>Entire home/apt</td>\n",
       "      <td>343</td>\n",
       "      <td>1</td>\n",
       "      <td>30</td>\n",
       "      <td>3/18/2020</td>\n",
       "      <td>0.64</td>\n",
       "      <td>22</td>\n",
       "      <td>203</td>\n",
       "    </tr>\n",
       "  </tbody>\n",
       "</table>\n",
       "</div>"
      ],
      "text/plain": [
       "       id                                               name  host_id  \\\n",
       "0   36666         Mo's Cozy Casa w/ veranda & access to dock   157752   \n",
       "1   36690  Mo's Cozy Cabana w/ comfy veranda & access to ...   157752   \n",
       "2  108932  Purple House eco solar  w/ ocean & wildlife views   563377   \n",
       "3  110483                            Michelo's fuchsia suite   567809   \n",
       "4  120115               Seaside Villas Second Floor Unit  #4   604999   \n",
       "\n",
       "  host_name neighbourhood_group         neighbourhood  latitude  longitude  \\\n",
       "0   Monique              Belize        Belize Islands  17.74786  -88.02398   \n",
       "1   Monique              Belize        Belize Islands  17.74832  -88.02474   \n",
       "2   Michael              Belize        Belize Islands  17.73221  -88.03824   \n",
       "3    Michel         Stann Creek  Stann Creek Mainland  16.52114  -88.36926   \n",
       "4     Bobbi              Belize        Belize Islands  17.74166  -88.02395   \n",
       "\n",
       "         room_type  price  minimum_nights  number_of_reviews last_review  \\\n",
       "0  Entire home/apt    141               3                250   2/23/2021   \n",
       "1  Entire home/apt     71               3                316   2/19/2021   \n",
       "2  Entire home/apt    191               2                 30   3/14/2020   \n",
       "3       Hotel room    121               1                 27   2/24/2020   \n",
       "4  Entire home/apt    343               1                 30   3/18/2020   \n",
       "\n",
       "   reviews_per_month  calculated_host_listings_count  availability_365  \n",
       "0               2.00                               5               225  \n",
       "1               2.46                               5               164  \n",
       "2               0.78                               1               364  \n",
       "3               0.29                               3               331  \n",
       "4               0.64                              22               203  "
      ]
     },
     "execution_count": 15,
     "metadata": {},
     "output_type": "execute_result"
    }
   ],
   "source": [
    "df = pd.read_csv(\"belize_airbnb_listings.csv\")\n",
    "df.head(5)\n",
    "          "
   ]
  },
  {
   "cell_type": "markdown",
   "id": "60dd1f07",
   "metadata": {},
   "source": [
    "# a) Difference between linear and rank correlation."
   ]
  },
  {
   "cell_type": "markdown",
   "id": "4f363bb2",
   "metadata": {},
   "source": [
    ".The linear correlation measures the strength of the linear relationship between two variables and linear correlation called as pearson's correlation. if the variables are not normally distributed or the relationship between the variables is not linear,it might be helpful to use rank correlation.Rank correlation see the ranks or the orderings of the data related to two variables and rank correlation is called as spearman's correlation."
   ]
  },
  {
   "cell_type": "markdown",
   "id": "9d3f0c97",
   "metadata": {},
   "source": [
    "# b) Scatter plot "
   ]
  },
  {
   "cell_type": "code",
   "execution_count": 12,
   "id": "de7e4a30",
   "metadata": {
    "scrolled": true
   },
   "outputs": [
    {
     "data": {
      "image/png": "[encoded data removed]",
      "text/plain": [
       "<Figure size 432x288 with 1 Axes>"
      ]
     },
     "metadata": {
      "needs_background": "light"
     },
     "output_type": "display_data"
    }
   ],
   "source": [
    "fig, ax = plt.subplots()\n",
    "\n",
    "ax.plot(df['calculated_host_listings_count'], df['availability_365'], marker = \"o\", linestyle='None', color= 'blue')\n",
    "\n",
    "#Calculated Host Listings Count\n",
    "ax.set_xlabel('Availability_365')\n",
    "\n",
    "#Availability_365\n",
    "ax.set_ylabel('Calculated Host Listings Count)')\n",
    "\n",
    "ax.set_title(\"Relationship between Calculated Host Listings Count & Availability 365\")\n",
    "\n",
    "plt.grid()\n",
    "\n",
    "\n",
    "plt.show()"
   ]
  },
  {
   "cell_type": "markdown",
   "id": "4663bc1c",
   "metadata": {},
   "source": [
    "# c) Calculate the correlation coefficient for the data in the scatter plot, and describe what is happening."
   ]
  },
  {
   "cell_type": "code",
   "execution_count": 50,
   "id": "f4d6d2a2",
   "metadata": {
    "scrolled": true
   },
   "outputs": [
    {
     "data": {
      "text/plain": [
       "array([[1.        , 0.17275503],\n",
       "       [0.17275503, 1.        ]])"
      ]
     },
     "execution_count": 50,
     "metadata": {},
     "output_type": "execute_result"
    }
   ],
   "source": [
    "#Used numpy function\n",
    "np.corrcoef(df[\"availability_365\"], df[\"calculated_host_listings_count\"])"
   ]
  },
  {
   "cell_type": "markdown",
   "id": "b0b2668b",
   "metadata": {},
   "source": [
    ". We took calculated_host_listings_count and availability_365 for the scatter plot , so calculated \n",
    "correlation coefficient for calculated_host_listings_count and availability_365. \n",
    "We got numpy array output, it shows that diagonal of the correlation which is upper left and lower right are equal to 1 , it shows each variable is perfectly correlates with itself.\n",
    "Lower left and upper right values of the correlation values are equal and it shows correlation coefficient for x and y. for this correlation we have to take 0.172 as the correlation coefficient and it has positive correlation because the value is positive and near to the slope."
   ]
  },
  {
   "cell_type": "markdown",
   "id": "d6336f6a",
   "metadata": {},
   "source": [
    "# 2, Create a box and whisker plot for the Belize Airbnb data price. In a markdown cell, describe what is going on in as simple of terms as possible."
   ]
  },
  {
   "cell_type": "code",
   "execution_count": 49,
   "id": "53eb5902",
   "metadata": {},
   "outputs": [
    {
     "data": {
      "image/png": "[encoded data removed]",
      "text/plain": [
       "<Figure size 720x1080 with 1 Axes>"
      ]
     },
     "metadata": {
      "needs_background": "light"
     },
     "output_type": "display_data"
    }
   ],
   "source": [
    "fig, ax = plt.subplots(figsize =(10, 15))\n",
    "\n",
    "# Added a boxplot for the price column in the DataFrame\n",
    "ax.boxplot(df[\"price\"])\n",
    "\n",
    "# Added x-axis tick labels:\n",
    "ax.set_xticklabels([\"price\"])\n",
    "\n",
    "plt.show()"
   ]
  },
  {
   "cell_type": "markdown",
   "id": "5402f86c",
   "metadata": {},
   "source": [
    ". Above box plot shows us the median for price column, orange line in the middle of the box represents the median.\n",
    "lower whisker is the lower actual price and higher whisker is from upper quartile to the highest actual price. Outliers are the individual prices and relative distances of the upper quartile and lower quartiles describe the shape of the distribution of prices."
   ]
  },
  {
   "cell_type": "code",
   "execution_count": null,
   "id": "8b0437a7",
   "metadata": {},
   "outputs": [],
   "source": []
  }
 ],
 "metadata": {
  "kernelspec": {
   "display_name": "Python 3",
   "language": "python",
   "name": "python3"
  },
  "language_info": {
   "codemirror_mode": {
    "name": "ipython",
    "version": 3
   },
   "file_extension": ".py",
   "mimetype": "text/x-python",
   "name": "python",
   "nbconvert_exporter": "python",
   "pygments_lexer": "ipython3",
   "version": "3.8.8"
  }
 },
 "nbformat": 4,
 "nbformat_minor": 5
}
